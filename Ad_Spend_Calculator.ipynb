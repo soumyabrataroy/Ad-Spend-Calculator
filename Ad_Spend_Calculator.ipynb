{
 "cells": [
  {
   "cell_type": "code",
   "execution_count": 13,
   "metadata": {},
   "outputs": [],
   "source": [
    "def Ad_Spend_Calculator():\n",
    "    \n",
    "\n",
    "    '''It calculates the cost per click of a Digital Advertisement campaign such as\n",
    "    Facebook Ad, Google Ad etc. etc.\n",
    "    Before you calculate the cost per click, you need to know the typical conversion rates of your Ads \n",
    "    and LTV (Lifetime value) of your customer\n",
    "    \n",
    "    * Here we assume that the typical client acquisition rate is 1 out of 10 leads'''\n",
    "    \n",
    "    while True:\n",
    "        try:\n",
    "            convertion_rate = int(input(\"Please give your landing page conversion rate: \"))/100\n",
    "        except:\n",
    "            print(\"Please provide integer value of conversion rate\")\n",
    "            continue\n",
    "        else:\n",
    "            break\n",
    "            \n",
    "    while True:\n",
    "        try:\n",
    "            LTV = int(input(\"Please enter your customer LTV (Life Time Value): \"))\n",
    "        except:\n",
    "            print(\"Please provide integer value of LTV\")\n",
    "            continue\n",
    "        else:\n",
    "            break\n",
    "            \n",
    "    client_rate = .1\n",
    "    signups_needed = 1/client_rate\n",
    "    clicks_needed = signups_needed/convertion_rate\n",
    "    cost_per_click = LTV/clicks_needed\n",
    "    print(\"\\nYour cost per click needs to be: {}$\".format(round(cost_per_click,1)))"
   ]
  },
  {
   "cell_type": "code",
   "execution_count": 14,
   "metadata": {},
   "outputs": [
    {
     "name": "stdout",
     "output_type": "stream",
     "text": [
      "Please give your landing page conversion rate: 7\n",
      "Please enter your customer LTV (Life Time Value): 2000\n",
      "\n",
      "Your cost per click needs to be: 14.0$\n"
     ]
    }
   ],
   "source": [
    "Ad_Spend_Calculator()"
   ]
  },
  {
   "cell_type": "code",
   "execution_count": null,
   "metadata": {},
   "outputs": [],
   "source": []
  }
 ],
 "metadata": {
  "kernelspec": {
   "display_name": "Python 3",
   "language": "python",
   "name": "python3"
  },
  "language_info": {
   "codemirror_mode": {
    "name": "ipython",
    "version": 3
   },
   "file_extension": ".py",
   "mimetype": "text/x-python",
   "name": "python",
   "nbconvert_exporter": "python",
   "pygments_lexer": "ipython3",
   "version": "3.6.5"
  }
 },
 "nbformat": 4,
 "nbformat_minor": 2
}
